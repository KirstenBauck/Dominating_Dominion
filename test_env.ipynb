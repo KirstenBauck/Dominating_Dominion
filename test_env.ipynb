{
 "cells": [
  {
   "cell_type": "code",
   "execution_count": null,
   "metadata": {},
   "outputs": [],
   "source": [
    "import gymnasium as gym\n",
    "import numpy as np\n",
    "from gymnasium import spaces\n",
    "from external.pydominion.dominion import Piles\n",
    "from external.pydominion.dominion.Game import Game"
   ]
  },
  {
   "cell_type": "markdown",
   "metadata": {},
   "source": [
    "## For any testing"
   ]
  },
  {
   "cell_type": "code",
   "execution_count": null,
   "metadata": {},
   "outputs": [],
   "source": [
    "game = Game(\n",
    "    numplayers=2,\n",
    "    initcards=[\"Cellar\", \"Market\", \"Militia\", \"Mine\", \"Moat\", \n",
    "                \"Remodel\", \"Smithy\", \"Village\", \"Throne Room\", \"Workshop\"],\n",
    "    validate_only=False,\n",
    "    prosperity=False,\n",
    "    potions = False,\n",
    "    shelters = False,\n",
    "    card_path=\"external/pydominion/dominion/cards\"\n",
    ")"
   ]
  },
  {
   "cell_type": "markdown",
   "metadata": {},
   "source": [
    "# Registration/Creation/Playing\n",
    "This all works right now"
   ]
  },
  {
   "cell_type": "code",
   "execution_count": null,
   "metadata": {},
   "outputs": [],
   "source": [
    "import gymnasium as gym"
   ]
  },
  {
   "cell_type": "code",
   "execution_count": null,
   "metadata": {},
   "outputs": [],
   "source": [
    "#Register\n",
    "gym.register(\n",
    "    id=\"Dominion-v10\",\n",
    "    entry_point=\"DominionEnv:DominionEnv\"\n",
    ")"
   ]
  },
  {
   "cell_type": "code",
   "execution_count": null,
   "metadata": {},
   "outputs": [],
   "source": [
    "env = gym.make(\"Dominion-v10\", \n",
    "         num_players=2, \n",
    "         card_set=[\"Cellar\", \"Market\", \"Militia\", \"Mine\", \"Moat\", \n",
    "                   \"Remodel\", \"Smithy\", \"Village\", \"Throne Room\", \"Workshop\"]\n",
    "        )\n",
    "obs, _ = env.reset()"
   ]
  },
  {
   "cell_type": "code",
   "execution_count": null,
   "metadata": {},
   "outputs": [],
   "source": [
    "# Set up some basic parameters for the loop\n",
    "episode_over = False\n",
    "total_reward = 0\n",
    "step_count = 0\n",
    "\n",
    "# Run the game loop\n",
    "while not episode_over and step_count < 100:  # Limit to 100 steps to prevent infinite loops\n",
    "    step_count += 1\n",
    "\n",
    "    action = env.action_space.sample() \n",
    "    observation, reward, terminated, truncated, info = env.step(action)\n",
    "\n",
    "    episode_over = terminated or truncated\n",
    "\n",
    "# Print end game\n",
    "print(f\"Game finished! Total reward: {total_reward}\")"
   ]
  },
  {
   "cell_type": "markdown",
   "metadata": {},
   "source": [
    "# Test with an agent?\n",
    "Works... but not really because agent can handle user input I don't think"
   ]
  },
  {
   "cell_type": "code",
   "execution_count": null,
   "metadata": {},
   "outputs": [],
   "source": [
    "from stable_baselines3 import PPO\n",
    "model = PPO(\"MlpPolicy\", env, verbose=1)\n",
    "model.learn(total_timesteps=25000)\n",
    "model.save(\"ppo_cartpole\")\n",
    "model = PPO.load(\"ppo_cartpole\")"
   ]
  },
  {
   "cell_type": "code",
   "execution_count": null,
   "metadata": {},
   "outputs": [],
   "source": [
    "obs, _ = env.reset()\n",
    "while True:\n",
    "    action, _states = model.predict(obs)\n",
    "    observation, reward, terminated, truncated, info = env.step(action)"
   ]
  }
 ],
 "metadata": {
  "kernelspec": {
   "display_name": "RL_dominion",
   "language": "python",
   "name": "python3"
  },
  "language_info": {
   "codemirror_mode": {
    "name": "ipython",
    "version": 3
   },
   "file_extension": ".py",
   "mimetype": "text/x-python",
   "name": "python",
   "nbconvert_exporter": "python",
   "pygments_lexer": "ipython3",
   "version": "3.13.2"
  }
 },
 "nbformat": 4,
 "nbformat_minor": 2
}
