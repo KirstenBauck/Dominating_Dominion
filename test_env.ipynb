{
 "cells": [
  {
   "cell_type": "code",
   "execution_count": null,
   "metadata": {},
   "outputs": [],
   "source": [
    "# Basic needs\n",
    "import gymnasium as gym\n",
    "from external.pydominion.dominion.Game import Game\n",
    "import sys\n",
    "# For maskable PPO\n",
    "from sb3_contrib.ppo_mask import MaskablePPO\n",
    "from sb3_contrib.common.wrappers import ActionMasker\n",
    "# For DQN\n",
    "from stable_baselines3 import DQN\n",
    "\n",
    "# For recursion error, colorama was causing issues, dont worry about this\n",
    "#import sys\n",
    "#import os\n",
    "#os.environ['CLICOLOR'] = '0'"
   ]
  },
  {
   "cell_type": "markdown",
   "metadata": {},
   "source": [
    "# Outstanding Considerations\n",
    "\n",
    "**Environment Questions**\n",
    "- How long is a good limit for number of turns? An average game lasts 15-40 turns\n",
    "- For our action space, the number of valid actions seems to be a max of 23... should we change?\n",
    "\n",
    "**Results we want from training an agent**\n",
    "- A graph of Reward vs Iteration for each player\n",
    "- Some sort of graphs to show agent training, such as loss\n",
    "- See what the deck looks like at the end of a game\n",
    "\n",
    "**For training timestep values:**\n",
    "- Quick test: 25,000\n",
    "- Short trainings (learn basic moves maybe): 100,000\n",
    "- Intermediate (start learning some strategy): 500,000\n",
    "- Full Training (needed for decent gameplay): 1,000,000"
   ]
  },
  {
   "cell_type": "markdown",
   "metadata": {},
   "source": [
    "# Play the game with agent\n",
    "User Input\n",
    "- Change `model_dir` as needed to location of where model was saved. Should be log_dir + model_name from the `run_masked_ppo.py` script\n",
    "- If needed, change the cell with the comment \"Load the model\" to work for masked_ppo vs dqn\n",
    "- If needed, change the cell with the comment \"Play the game!\" to work for masked_ppo vs dqn"
   ]
  },
  {
   "cell_type": "code",
   "execution_count": null,
   "metadata": {},
   "outputs": [],
   "source": [
    "model_dir = \"logs/masked_ppo_5/ppo_masked_dominion\""
   ]
  },
  {
   "cell_type": "code",
   "execution_count": null,
   "metadata": {},
   "outputs": [],
   "source": [
    "# Register gym environment\n",
    "gym.register(\n",
    "    id=\"Dominion-v1\",\n",
    "    entry_point=\"DominionEnv:DominionEnv\"\n",
    ")"
   ]
  },
  {
   "cell_type": "code",
   "execution_count": null,
   "metadata": {},
   "outputs": [],
   "source": [
    "# Make the environment\n",
    "env = gym.make(\"Dominion-v1\", \n",
    "         num_players=2, \n",
    "         card_set=[\"Cellar\", \"Market\", \"Militia\", \"Mine\", \"Moat\", \n",
    "                   \"Remodel\", \"Smithy\", \"Village\", \"Throne Room\", \"Workshop\"],\n",
    "         quiet_flag = False,\n",
    "         debug_flag = False\n",
    "        )"
   ]
  },
  {
   "cell_type": "code",
   "execution_count": null,
   "metadata": {},
   "outputs": [],
   "source": [
    "# Load the model (switch as needed)\n",
    "model = MaskablePPO.load(model_dir)\n",
    "#model = DQN.load(model_dir)"
   ]
  },
  {
   "cell_type": "code",
   "execution_count": null,
   "metadata": {},
   "outputs": [],
   "source": [
    "# Play the game!\n",
    "obs, _ = env.reset()\n",
    "while True:\n",
    "    #action, _ = model.predict(obs) # Use for DQN\n",
    "    action, _ = model.predict(obs, action_masks=env.unwrapped.get_action_mask()) # Use for masked_ppo\n",
    "    #print(f\"Predicted action: {action}\") # Use for debugging\n",
    "    obs, reward, terminated, truncated, info = env.step(action)\n",
    "\n",
    "    if terminated or truncated:\n",
    "        break"
   ]
  },
  {
   "cell_type": "markdown",
   "metadata": {},
   "source": [
    "# Train with Maskable PPO\n",
    "See documentation [here](https://sb3-contrib.readthedocs.io/en/master/modules/ppo_mask.html)\n",
    "\n",
    "- One timestep = one call to \"step\" function\n",
    "- One episode = one game played\n",
    "- Since PPO runs in chuncks (2048 per iteration) then 2048 (chunck size) / 583 (time it take to run one episode) = 3.5 iterations played per chunck\n",
    "\n",
    "User input:\n",
    "- NONE\n",
    "\n",
    "This is just a testing grounds if you need it"
   ]
  },
  {
   "cell_type": "code",
   "execution_count": null,
   "metadata": {},
   "outputs": [],
   "source": [
    "#Register\n",
    "gym.register(\n",
    "    id=\"Dominion-v1\",\n",
    "    entry_point=\"DominionEnv:DominionEnv\"\n",
    ")\n",
    "\n",
    "# Make environment space\n",
    "env = gym.make(\"Dominion-v1\", \n",
    "         num_players=2, \n",
    "         card_set=[\"Cellar\", \"Market\", \"Militia\", \"Mine\", \"Moat\", \n",
    "                   \"Remodel\", \"Smithy\", \"Village\", \"Throne Room\", \"Workshop\"],\n",
    "         quiet_flag=True,\n",
    "         debug_flag = True\n",
    "        )\n",
    "\n",
    "# Mask the environment so that it only includes valid action choices\n",
    "#env = ActionMasker(env, lambda env: env.get_action_mask())\n",
    "env = ActionMasker(env, lambda env: env.unwrapped.get_action_mask())"
   ]
  },
  {
   "cell_type": "code",
   "execution_count": null,
   "metadata": {},
   "outputs": [],
   "source": [
    "model = MaskablePPO(\"MlpPolicy\", env, verbose=1)\n",
    "model.learn(total_timesteps=10000, reset_num_timesteps=False)"
   ]
  },
  {
   "cell_type": "markdown",
   "metadata": {},
   "source": [
    "# Train with Regular DQN\n",
    "See documentation [here](https://stable-baselines3.readthedocs.io/en/master/modules/dqn.html)\n",
    "\n",
    "**User input**:\n",
    "- NONE\n",
    "\n",
    "This is just a testing grounds if you need it"
   ]
  },
  {
   "cell_type": "code",
   "execution_count": null,
   "metadata": {},
   "outputs": [],
   "source": [
    "#Register\n",
    "gym.register(\n",
    "    id=\"Dominion-v1\",\n",
    "    entry_point=\"DominionEnv:DominionEnv\"\n",
    ")\n",
    "\n",
    "# Make environment space\n",
    "env = gym.make(\"Dominion-v1\", \n",
    "         num_players=2, \n",
    "         card_set=[\"Cellar\", \"Market\", \"Militia\", \"Mine\", \"Moat\", \n",
    "                   \"Remodel\", \"Smithy\", \"Village\", \"Throne Room\", \"Workshop\"],\n",
    "         quiet_flag=True,\n",
    "         debug_flag = True\n",
    "        )"
   ]
  },
  {
   "cell_type": "code",
   "execution_count": null,
   "metadata": {},
   "outputs": [],
   "source": [
    "sys.stdout = open(\"logs/DQN_training_output1.log\", \"w\")\n",
    "sys.stderr = sys.stdout\n",
    "\n",
    "# Train the model\n",
    "model = DQN(\"MlpPolicy\", env, verbose=0)\n",
    "model.learn(total_timesteps=250000, reset_num_timesteps=False)\n",
    "print(\"Done learning\")\n",
    "sys.stdout.close()\n",
    "print(\"Closed output file\")\n",
    "\n",
    "# Save the model\n",
    "model.save(\"dqn_cartpole\")\n",
    "print(\"Saved model\")"
   ]
  },
  {
   "cell_type": "markdown",
   "metadata": {},
   "source": [
    "# Test anything within pydominion as needed\n",
    "**User input:**\n",
    "- NONE\n",
    "\n",
    "This is just a testing grounds if you need it"
   ]
  },
  {
   "cell_type": "code",
   "execution_count": null,
   "metadata": {},
   "outputs": [],
   "source": [
    "game = Game(\n",
    "    numplayers=2,\n",
    "    initcards=[\"Cellar\", \"Market\", \"Militia\", \"Mine\", \"Moat\", \n",
    "                \"Remodel\", \"Smithy\", \"Village\", \"Throne Room\", \"Workshop\"],\n",
    "    validate_only=False,\n",
    "    prosperity=False,\n",
    "    potions = False,\n",
    "    shelters = False,\n",
    "    card_path=\"external/pydominion/dominion/cards\"\n",
    ")"
   ]
  },
  {
   "cell_type": "code",
   "execution_count": null,
   "metadata": {},
   "outputs": [],
   "source": [
    "# Start game to have something\n",
    "game.start_game()\n",
    "# Get the options, usually helpful to look into\n",
    "options = game.current_player._choice_selection()"
   ]
  }
 ],
 "metadata": {
  "kernelspec": {
   "display_name": "RL_dominion",
   "language": "python",
   "name": "python3"
  },
  "language_info": {
   "codemirror_mode": {
    "name": "ipython",
    "version": 3
   },
   "file_extension": ".py",
   "mimetype": "text/x-python",
   "name": "python",
   "nbconvert_exporter": "python",
   "pygments_lexer": "ipython3",
   "version": "3.13.2"
  }
 },
 "nbformat": 4,
 "nbformat_minor": 2
}
